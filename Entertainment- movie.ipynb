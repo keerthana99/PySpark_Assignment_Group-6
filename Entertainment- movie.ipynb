{
 "cells": [
  {
   "cell_type": "markdown",
   "metadata": {},
   "source": [
    "## PYSPARK ASSIGNMENT - GROUP 6"
   ]
  },
  {
   "cell_type": "markdown",
   "metadata": {},
   "source": [
    "### Dataset : Entertainment - movie"
   ]
  },
  {
   "cell_type": "markdown",
   "metadata": {},
   "source": [
    "i.Extract:  Load the data\n",
    "   - Read data as csv via spark dataframe\n",
    "\n",
    "ii.Transform: Exploratory data analysis using spark df\n",
    "    - Unique id count\n",
    "    - split column release_date into three columns -> year,month and day\n",
    "    - Replace - month -> 1 to Jan and 2 to Feb and so on\n",
    "    - Update : Normalize popularity column - normalized  v = v - min(popularity)/max(popularity)-min(popularity)\n",
    "    - remove - overview and video column\n",
    "    - show df\n",
    "    - GroupBy vote_average and count\n",
    "\n",
    "iii.Load: Save analysis report\n",
    "    - show df, save as files\n"
   ]
  },
  {
   "cell_type": "markdown",
   "metadata": {},
   "source": [
    "### I. Extract: Load the data"
   ]
  },
  {
   "cell_type": "code",
   "execution_count": 1,
   "metadata": {},
   "outputs": [],
   "source": [
    "#Importing necessary libraries\n",
    "import pandas as pd \n",
    "import os\n",
    "import calendar\n",
    "import itertools\n",
    "from pyspark.sql import functions as f\n",
    "from pyspark.sql.functions import *\n",
    "from pyspark.sql.functions import countDistinct"
   ]
  },
  {
   "cell_type": "code",
   "execution_count": 2,
   "metadata": {},
   "outputs": [],
   "source": [
    "from pyspark.ml.feature import MinMaxScaler\n",
    "from pyspark.ml.feature import VectorAssembler\n",
    "from pyspark.ml import Pipeline\n",
    "from pyspark.sql.functions import udf\n",
    "from pyspark.sql.types import DoubleType\n",
    "from pyspark.sql import SparkSession \n",
    "from pyspark.sql.functions import UserDefinedFunction\n",
    "from pyspark.sql.types import StringType"
   ]
  },
  {
   "cell_type": "code",
   "execution_count": 3,
   "metadata": {},
   "outputs": [],
   "source": [
    "#Creating a PySpark SparkSession\n",
    "spark = SparkSession.builder.master(\"local\").\\\n",
    "        appName(\"Python Spark SQL basic example\").\\\n",
    "        config(\"spark.some.config.option\", \"some-value\").\\\n",
    "        getOrCreate()"
   ]
  },
  {
   "cell_type": "code",
   "execution_count": 4,
   "metadata": {},
   "outputs": [],
   "source": [
    "data = spark.read.format(\"com.databricks.spark.csv\").option(\"header\", True).option(\"multiline\",True).option(\"escape\", \"\\\"\").option(\"quote\", '\"').option(\"inferschema\", True).option(\"delimiter\",\",\").load(\"C:/Users/LATHA/Desktop/Movie-Dataset-Latest.csv\")"
   ]
  },
  {
   "cell_type": "code",
   "execution_count": 5,
   "metadata": {},
   "outputs": [
    {
     "name": "stdout",
     "output_type": "stream",
     "text": [
      "root\n",
      " |-- _c0: integer (nullable = true)\n",
      " |-- id: integer (nullable = true)\n",
      " |-- title: string (nullable = true)\n",
      " |-- release_date: string (nullable = true)\n",
      " |-- overview: string (nullable = true)\n",
      " |-- popularity: double (nullable = true)\n",
      " |-- vote_average: double (nullable = true)\n",
      " |-- vote_count: integer (nullable = true)\n",
      " |-- video: boolean (nullable = true)\n",
      "\n",
      "+---+------+--------------------+------------+--------------------+----------+------------+----------+-----+\n",
      "|_c0|    id|               title|release_date|            overview|popularity|vote_average|vote_count|video|\n",
      "+---+------+--------------------+------------+--------------------+----------+------------+----------+-----+\n",
      "|  0| 19404|Dilwale Dulhania ...|  1995-10-20|Raj is a rich, ca...|    25.884|         8.7|      3304|false|\n",
      "|  1|   278|The Shawshank Red...|  1994-09-23|Framed in the 194...|     60.11|         8.7|     20369|false|\n",
      "|  2|   238|       The Godfather|  1972-03-14|Spanning the year...|    62.784|         8.7|     15219|false|\n",
      "|  3|724089|Gabriel's Inferno...|  2020-07-31|Professor Gabriel...|    28.316|         8.6|      1360|false|\n",
      "|  4|   424|    Schindler's List|  1993-11-30|The true story of...|    38.661|         8.6|     12158|false|\n",
      "|  5|696374|   Gabriel's Inferno|  2020-05-29|An intriguing and...|    18.395|         8.6|      2172|false|\n",
      "|  6|761053|Gabriel's Inferno...|  2020-11-19|The final part of...|    29.495|         8.6|       922|false|\n",
      "|  7|   240|The Godfather: Pa...|  1974-12-20|In the continuing...|    43.065|         8.6|      9164|false|\n",
      "|  8|283566|Evangelion: 3.0+1...|  2021-03-08|In the aftermath ...|   211.871|         8.6|       405|false|\n",
      "|  9|255709|                Hope|  2013-10-02|After 8-year-old ...|    10.103|         8.6|       237|false|\n",
      "| 10|372058|          Your Name.|  2016-08-26|High schoolers Mi...|   194.857|         8.6|      8172|false|\n",
      "| 11|   129|       Spirited Away|  2001-07-20|A young girl, Chi...|    75.446|         8.5|     12189|false|\n",
      "| 12|496243|            Parasite|  2019-05-30|All unemployed, K...|   109.058|         8.5|     12740|false|\n",
      "| 13|632632|               Given|  2020-08-22|The film centers ...|   155.577|         8.5|       279|false|\n",
      "| 14|532067|KonoSuba: God's B...|  2019-08-30|It is not strange...|    232.76|         8.5|       329|false|\n",
      "| 15|   389|        12 Angry Men|  1957-04-10|The defense and t...|     24.24|         8.5|      6042|false|\n",
      "| 16|   497|      The Green Mile|  1999-12-10|A supernatural ta...|    50.785|         8.5|     13200|false|\n",
      "| 17|441130|         Wolfwalkers|  2020-10-26|In a time of supe...|    17.157|         8.5|       648|false|\n",
      "| 18|   680|        Pulp Fiction|  1994-09-10|A burger-loving h...|    58.057|         8.5|     22302|false|\n",
      "| 19|   155|     The Dark Knight|  2008-07-14|Batman raises the...|     76.18|         8.5|     26452|false|\n",
      "+---+------+--------------------+------------+--------------------+----------+------------+----------+-----+\n",
      "only showing top 20 rows\n",
      "\n"
     ]
    }
   ],
   "source": [
    "#Spark-data : Final dataframe \n",
    "data.printSchema() #to see the schema of spark dataframe  \n",
    "data.show()"
   ]
  },
  {
   "cell_type": "code",
   "execution_count": 6,
   "metadata": {},
   "outputs": [],
   "source": [
    "data=data.drop(*['_c0'])"
   ]
  },
  {
   "cell_type": "markdown",
   "metadata": {},
   "source": [
    "### ii.Transform: Exploratory data analysis using spark dataframe"
   ]
  },
  {
   "cell_type": "markdown",
   "metadata": {},
   "source": [
    "#### To count unique id's"
   ]
  },
  {
   "cell_type": "code",
   "execution_count": 7,
   "metadata": {},
   "outputs": [
    {
     "name": "stdout",
     "output_type": "stream",
     "text": [
      "+------------------+\n",
      "|count(DISTINCT id)|\n",
      "+------------------+\n",
      "|              9463|\n",
      "+------------------+\n",
      "\n"
     ]
    }
   ],
   "source": [
    "count=data.select(countDistinct(\"id\"))\n",
    "count.show()"
   ]
  },
  {
   "cell_type": "markdown",
   "metadata": {},
   "source": [
    "#### Splitting column release_date into three columns -> year,month and day"
   ]
  },
  {
   "cell_type": "code",
   "execution_count": 8,
   "metadata": {},
   "outputs": [],
   "source": [
    "data=(data.withColumn(\"Year\",f.year(\"release_date\"))\n",
    "          .withColumn(\"day\",f.dayofmonth(\"release_date\"))\n",
    "          .withColumn(\"month\",f.month(\"release_date\")))"
   ]
  },
  {
   "cell_type": "code",
   "execution_count": 9,
   "metadata": {},
   "outputs": [
    {
     "name": "stdout",
     "output_type": "stream",
     "text": [
      "+------+--------------------+------------+--------------------+----------+------------+----------+-----+----+---+-----+\n",
      "|    id|               title|release_date|            overview|popularity|vote_average|vote_count|video|Year|day|month|\n",
      "+------+--------------------+------------+--------------------+----------+------------+----------+-----+----+---+-----+\n",
      "| 19404|Dilwale Dulhania ...|  1995-10-20|Raj is a rich, ca...|    25.884|         8.7|      3304|false|1995| 20|   10|\n",
      "|   278|The Shawshank Red...|  1994-09-23|Framed in the 194...|     60.11|         8.7|     20369|false|1994| 23|    9|\n",
      "|   238|       The Godfather|  1972-03-14|Spanning the year...|    62.784|         8.7|     15219|false|1972| 14|    3|\n",
      "|724089|Gabriel's Inferno...|  2020-07-31|Professor Gabriel...|    28.316|         8.6|      1360|false|2020| 31|    7|\n",
      "|   424|    Schindler's List|  1993-11-30|The true story of...|    38.661|         8.6|     12158|false|1993| 30|   11|\n",
      "|696374|   Gabriel's Inferno|  2020-05-29|An intriguing and...|    18.395|         8.6|      2172|false|2020| 29|    5|\n",
      "|761053|Gabriel's Inferno...|  2020-11-19|The final part of...|    29.495|         8.6|       922|false|2020| 19|   11|\n",
      "|   240|The Godfather: Pa...|  1974-12-20|In the continuing...|    43.065|         8.6|      9164|false|1974| 20|   12|\n",
      "|283566|Evangelion: 3.0+1...|  2021-03-08|In the aftermath ...|   211.871|         8.6|       405|false|2021|  8|    3|\n",
      "|255709|                Hope|  2013-10-02|After 8-year-old ...|    10.103|         8.6|       237|false|2013|  2|   10|\n",
      "|372058|          Your Name.|  2016-08-26|High schoolers Mi...|   194.857|         8.6|      8172|false|2016| 26|    8|\n",
      "|   129|       Spirited Away|  2001-07-20|A young girl, Chi...|    75.446|         8.5|     12189|false|2001| 20|    7|\n",
      "|496243|            Parasite|  2019-05-30|All unemployed, K...|   109.058|         8.5|     12740|false|2019| 30|    5|\n",
      "|632632|               Given|  2020-08-22|The film centers ...|   155.577|         8.5|       279|false|2020| 22|    8|\n",
      "|532067|KonoSuba: God's B...|  2019-08-30|It is not strange...|    232.76|         8.5|       329|false|2019| 30|    8|\n",
      "|   389|        12 Angry Men|  1957-04-10|The defense and t...|     24.24|         8.5|      6042|false|1957| 10|    4|\n",
      "|   497|      The Green Mile|  1999-12-10|A supernatural ta...|    50.785|         8.5|     13200|false|1999| 10|   12|\n",
      "|441130|         Wolfwalkers|  2020-10-26|In a time of supe...|    17.157|         8.5|       648|false|2020| 26|   10|\n",
      "|   680|        Pulp Fiction|  1994-09-10|A burger-loving h...|    58.057|         8.5|     22302|false|1994| 10|    9|\n",
      "|   155|     The Dark Knight|  2008-07-14|Batman raises the...|     76.18|         8.5|     26452|false|2008| 14|    7|\n",
      "+------+--------------------+------------+--------------------+----------+------------+----------+-----+----+---+-----+\n",
      "only showing top 20 rows\n",
      "\n"
     ]
    }
   ],
   "source": [
    "data.show()"
   ]
  },
  {
   "cell_type": "code",
   "execution_count": 10,
   "metadata": {},
   "outputs": [
    {
     "name": "stdout",
     "output_type": "stream",
     "text": [
      "+------------+--------------------+----------+\n",
      "|release_date|            overview|popularity|\n",
      "+------------+--------------------+----------+\n",
      "|  1995-10-20|Raj is a rich, ca...|    25.884|\n",
      "|  1994-09-23|Framed in the 194...|     60.11|\n",
      "|  1972-03-14|Spanning the year...|    62.784|\n",
      "|  2020-07-31|Professor Gabriel...|    28.316|\n",
      "+------------+--------------------+----------+\n",
      "only showing top 4 rows\n",
      "\n"
     ]
    }
   ],
   "source": [
    "data.select(data.columns[2:5]).show(4)\n"
   ]
  },
  {
   "cell_type": "markdown",
   "metadata": {},
   "source": [
    "#### Replace - month -> 1 to Jan and 2 to Feb and so on"
   ]
  },
  {
   "cell_type": "code",
   "execution_count": 11,
   "metadata": {},
   "outputs": [
    {
     "name": "stdout",
     "output_type": "stream",
     "text": [
      "+------+--------------------+------------+--------------------+----------+------------+----------+-----+----+---+-----+\n",
      "|    id|               title|release_date|            overview|popularity|vote_average|vote_count|video|Year|day|month|\n",
      "+------+--------------------+------------+--------------------+----------+------------+----------+-----+----+---+-----+\n",
      "| 19404|Dilwale Dulhania ...|  1995-10-20|Raj is a rich, ca...|    25.884|         8.7|      3304|false|1995| 20|  Oct|\n",
      "|   278|The Shawshank Red...|  1994-09-23|Framed in the 194...|     60.11|         8.7|     20369|false|1994| 23|  Sep|\n",
      "|   238|       The Godfather|  1972-03-14|Spanning the year...|    62.784|         8.7|     15219|false|1972| 14|  Mar|\n",
      "|724089|Gabriel's Inferno...|  2020-07-31|Professor Gabriel...|    28.316|         8.6|      1360|false|2020| 31|  Jul|\n",
      "|   424|    Schindler's List|  1993-11-30|The true story of...|    38.661|         8.6|     12158|false|1993| 30|  Nov|\n",
      "|696374|   Gabriel's Inferno|  2020-05-29|An intriguing and...|    18.395|         8.6|      2172|false|2020| 29|  May|\n",
      "|761053|Gabriel's Inferno...|  2020-11-19|The final part of...|    29.495|         8.6|       922|false|2020| 19|  Nov|\n",
      "|   240|The Godfather: Pa...|  1974-12-20|In the continuing...|    43.065|         8.6|      9164|false|1974| 20| null|\n",
      "|283566|Evangelion: 3.0+1...|  2021-03-08|In the aftermath ...|   211.871|         8.6|       405|false|2021|  8|  Mar|\n",
      "|255709|                Hope|  2013-10-02|After 8-year-old ...|    10.103|         8.6|       237|false|2013|  2|  Oct|\n",
      "|372058|          Your Name.|  2016-08-26|High schoolers Mi...|   194.857|         8.6|      8172|false|2016| 26|  Aug|\n",
      "|   129|       Spirited Away|  2001-07-20|A young girl, Chi...|    75.446|         8.5|     12189|false|2001| 20|  Jul|\n",
      "|496243|            Parasite|  2019-05-30|All unemployed, K...|   109.058|         8.5|     12740|false|2019| 30|  May|\n",
      "|632632|               Given|  2020-08-22|The film centers ...|   155.577|         8.5|       279|false|2020| 22|  Aug|\n",
      "|532067|KonoSuba: God's B...|  2019-08-30|It is not strange...|    232.76|         8.5|       329|false|2019| 30|  Aug|\n",
      "|   389|        12 Angry Men|  1957-04-10|The defense and t...|     24.24|         8.5|      6042|false|1957| 10|  Apr|\n",
      "|   497|      The Green Mile|  1999-12-10|A supernatural ta...|    50.785|         8.5|     13200|false|1999| 10| null|\n",
      "|441130|         Wolfwalkers|  2020-10-26|In a time of supe...|    17.157|         8.5|       648|false|2020| 26|  Oct|\n",
      "|   680|        Pulp Fiction|  1994-09-10|A burger-loving h...|    58.057|         8.5|     22302|false|1994| 10|  Sep|\n",
      "|   155|     The Dark Knight|  2008-07-14|Batman raises the...|     76.18|         8.5|     26452|false|2008| 14|  Jul|\n",
      "+------+--------------------+------------+--------------------+----------+------------+----------+-----+----+---+-----+\n",
      "only showing top 20 rows\n",
      "\n"
     ]
    }
   ],
   "source": [
    "months = f.create_map(*[\n",
    "    f.lit(m) for m in itertools.chain(*[(x, calendar.month_abbr[x]) for x in range(1, 12, 1)])\n",
    "])\n",
    "data = data.withColumn(\"month\", months[f.col(\"month\")])\n",
    "#data=dat.drop(*['month'])\n",
    "data.show()"
   ]
  },
  {
   "cell_type": "markdown",
   "metadata": {},
   "source": [
    "#### Update - Normalizing popularity column"
   ]
  },
  {
   "cell_type": "code",
   "execution_count": 12,
   "metadata": {},
   "outputs": [],
   "source": [
    "min = data.agg({\"popularity\": \"min\"}).collect()[0][0]\n",
    "max = data.agg({\"popularity\": \"max\"}).collect()[0][0]\n",
    "\n",
    "data = data.withColumn('popularity', (col('popularity') - min)/(max-min))"
   ]
  },
  {
   "cell_type": "code",
   "execution_count": 13,
   "metadata": {},
   "outputs": [
    {
     "name": "stdout",
     "output_type": "stream",
     "text": [
      "+------+--------------------+------------+--------------------+--------------------+------------+----------+-----+----+---+-----+\n",
      "|    id|               title|release_date|            overview|          popularity|vote_average|vote_count|video|Year|day|month|\n",
      "+------+--------------------+------------+--------------------+--------------------+------------+----------+-----+----+---+-----+\n",
      "| 19404|Dilwale Dulhania ...|  1995-10-20|Raj is a rich, ca...|0.001788613400169...|         8.7|      3304|false|1995| 20|  Oct|\n",
      "|   278|The Shawshank Red...|  1994-09-23|Framed in the 194...|0.004209792099512666|         8.7|     20369|false|1994| 23|  Sep|\n",
      "|   238|       The Godfather|  1972-03-14|Spanning the year...|0.004398953317360034|         8.7|     15219|false|1972| 14|  Mar|\n",
      "|724089|Gabriel's Inferno...|  2020-07-31|Professor Gabriel...|0.001960655315578777|         8.6|      1360|false|2020| 31|  Jul|\n",
      "|   424|    Schindler's List|  1993-11-30|The true story of...|0.002692470124341...|         8.6|     12158|false|1993| 30|  Nov|\n",
      "|696374|   Gabriel's Inferno|  2020-05-29|An intriguing and...|0.001258834656542226|         8.6|      2172|false|2020| 29|  May|\n",
      "|761053|Gabriel's Inferno...|  2020-11-19|The final part of...|0.002044058859274382|         8.6|       922|false|2020| 19|  Nov|\n",
      "|   240|The Godfather: Pa...|  1974-12-20|In the continuing...|0.003004013132344...|         8.6|      9164|false|1974| 20| null|\n",
      "|283566|Evangelion: 3.0+1...|  2021-03-08|In the aftermath ...|0.014945504732921198|         8.6|       405|false|2021|  8|  Mar|\n",
      "|255709|                Hope|  2013-10-02|After 8-year-old ...|6.722509548255564E-4|         8.6|       237|false|2013|  2|  Oct|\n",
      "|372058|          Your Name.|  2016-08-26|High schoolers Mi...|0.013741918734246883|         8.6|      8172|false|2016| 26|  Aug|\n",
      "|   129|       Spirited Away|  2001-07-20|A young girl, Chi...|0.005294674835828012|         8.5|     12189|false|2001| 20|  Jul|\n",
      "|496243|            Parasite|  2019-05-30|All unemployed, K...|0.007672418610803978|         8.5|     12740|false|2019| 30|  May|\n",
      "|632632|               Given|  2020-08-22|The film centers ...|0.010963215429443361|         8.5|       279|false|2020| 22|  Aug|\n",
      "|532067|KonoSuba: God's B...|  2019-08-30|It is not strange...|0.016423211793360114|         8.5|       329|false|2019| 30|  Aug|\n",
      "|   389|        12 Angry Men|  1957-04-10|The defense and t...|0.001672315329061...|         8.5|      6042|false|1957| 10|  Apr|\n",
      "|   497|      The Green Mile|  1999-12-10|A supernatural ta...|0.003550133028298...|         8.5|     13200|false|1999| 10| null|\n",
      "|441130|         Wolfwalkers|  2020-10-26|In a time of supe...|0.001171257398615...|         8.5|       648|false|2020| 26|  Oct|\n",
      "|   680|        Pulp Fiction|  1994-09-10|A burger-loving h...|  0.0040645609924668|         8.5|     22302|false|1994| 10|  Sep|\n",
      "|   155|     The Dark Knight|  2008-07-14|Batman raises the...|0.005346598670495166|         8.5|     26452|false|2008| 14|  Jul|\n",
      "+------+--------------------+------------+--------------------+--------------------+------------+----------+-----+----+---+-----+\n",
      "only showing top 20 rows\n",
      "\n"
     ]
    }
   ],
   "source": [
    "data.show()"
   ]
  },
  {
   "cell_type": "markdown",
   "metadata": {},
   "source": [
    "#### Remove - overview and video column"
   ]
  },
  {
   "cell_type": "code",
   "execution_count": 14,
   "metadata": {},
   "outputs": [],
   "source": [
    "columns_to_drop = ['overview','video']\n",
    "data=data.drop(*columns_to_drop)"
   ]
  },
  {
   "cell_type": "code",
   "execution_count": 15,
   "metadata": {},
   "outputs": [
    {
     "name": "stdout",
     "output_type": "stream",
     "text": [
      "+------+--------------------+------------+--------------------+------------+----------+----+---+-----+\n",
      "|    id|               title|release_date|          popularity|vote_average|vote_count|Year|day|month|\n",
      "+------+--------------------+------------+--------------------+------------+----------+----+---+-----+\n",
      "| 19404|Dilwale Dulhania ...|  1995-10-20|0.001788613400169...|         8.7|      3304|1995| 20|  Oct|\n",
      "|   278|The Shawshank Red...|  1994-09-23|0.004209792099512666|         8.7|     20369|1994| 23|  Sep|\n",
      "|   238|       The Godfather|  1972-03-14|0.004398953317360034|         8.7|     15219|1972| 14|  Mar|\n",
      "|724089|Gabriel's Inferno...|  2020-07-31|0.001960655315578777|         8.6|      1360|2020| 31|  Jul|\n",
      "|   424|    Schindler's List|  1993-11-30|0.002692470124341...|         8.6|     12158|1993| 30|  Nov|\n",
      "|696374|   Gabriel's Inferno|  2020-05-29|0.001258834656542226|         8.6|      2172|2020| 29|  May|\n",
      "|761053|Gabriel's Inferno...|  2020-11-19|0.002044058859274382|         8.6|       922|2020| 19|  Nov|\n",
      "|   240|The Godfather: Pa...|  1974-12-20|0.003004013132344...|         8.6|      9164|1974| 20| null|\n",
      "|283566|Evangelion: 3.0+1...|  2021-03-08|0.014945504732921198|         8.6|       405|2021|  8|  Mar|\n",
      "|255709|                Hope|  2013-10-02|6.722509548255564E-4|         8.6|       237|2013|  2|  Oct|\n",
      "|372058|          Your Name.|  2016-08-26|0.013741918734246883|         8.6|      8172|2016| 26|  Aug|\n",
      "|   129|       Spirited Away|  2001-07-20|0.005294674835828012|         8.5|     12189|2001| 20|  Jul|\n",
      "|496243|            Parasite|  2019-05-30|0.007672418610803978|         8.5|     12740|2019| 30|  May|\n",
      "|632632|               Given|  2020-08-22|0.010963215429443361|         8.5|       279|2020| 22|  Aug|\n",
      "|532067|KonoSuba: God's B...|  2019-08-30|0.016423211793360114|         8.5|       329|2019| 30|  Aug|\n",
      "|   389|        12 Angry Men|  1957-04-10|0.001672315329061...|         8.5|      6042|1957| 10|  Apr|\n",
      "|   497|      The Green Mile|  1999-12-10|0.003550133028298...|         8.5|     13200|1999| 10| null|\n",
      "|441130|         Wolfwalkers|  2020-10-26|0.001171257398615...|         8.5|       648|2020| 26|  Oct|\n",
      "|   680|        Pulp Fiction|  1994-09-10|  0.0040645609924668|         8.5|     22302|1994| 10|  Sep|\n",
      "|   155|     The Dark Knight|  2008-07-14|0.005346598670495166|         8.5|     26452|2008| 14|  Jul|\n",
      "+------+--------------------+------------+--------------------+------------+----------+----+---+-----+\n",
      "only showing top 20 rows\n",
      "\n"
     ]
    }
   ],
   "source": [
    "data.show()"
   ]
  },
  {
   "cell_type": "markdown",
   "metadata": {},
   "source": [
    "##### GroupBy vote_average and count"
   ]
  },
  {
   "cell_type": "code",
   "execution_count": 16,
   "metadata": {},
   "outputs": [],
   "source": [
    "f=data.groupBy(\"vote_average\").count()"
   ]
  },
  {
   "cell_type": "code",
   "execution_count": 17,
   "metadata": {},
   "outputs": [
    {
     "name": "stdout",
     "output_type": "stream",
     "text": [
      "+------------+-----+\n",
      "|vote_average|count|\n",
      "+------------+-----+\n",
      "|         8.0|  101|\n",
      "|         5.4|  145|\n",
      "|         7.0|  383|\n",
      "|         6.1|  405|\n",
      "|         7.7|  201|\n",
      "|         6.6|  444|\n",
      "|         3.7|    6|\n",
      "|         5.7|  248|\n",
      "|         8.6|    8|\n",
      "|         3.9|    8|\n",
      "|         8.7|    3|\n",
      "|         4.5|   28|\n",
      "|         6.7|  441|\n",
      "|         7.4|  350|\n",
      "|         6.5|  432|\n",
      "|         8.4|   38|\n",
      "|         4.9|   50|\n",
      "|         4.1|    8|\n",
      "|         2.2|    1|\n",
      "|         2.8|    1|\n",
      "+------------+-----+\n",
      "only showing top 20 rows\n",
      "\n"
     ]
    }
   ],
   "source": [
    "f.show()"
   ]
  },
  {
   "cell_type": "markdown",
   "metadata": {},
   "source": [
    "### iii.Load: Save analysis report\n",
    "####  - show df, save as files"
   ]
  },
  {
   "cell_type": "code",
   "execution_count": 18,
   "metadata": {},
   "outputs": [],
   "source": [
    "f.toPandas().to_csv(\"vote_avg_count.csv\")\n"
   ]
  },
  {
   "cell_type": "code",
   "execution_count": 19,
   "metadata": {},
   "outputs": [
    {
     "name": "stdout",
     "output_type": "stream",
     "text": [
      "Successfully saved at  C:\\Users\\LATHA\\Downloads\n"
     ]
    }
   ],
   "source": [
    "f1 = f.toPandas()\n",
    "f1.to_csv('Output.txt', index=False)\n",
    "print('Successfully saved at ',os.getcwd())"
   ]
  },
  {
   "cell_type": "markdown",
   "metadata": {},
   "source": [
    "###   Submitted By:\n",
    " - Sarah Merin John   - 20BDA06 \n",
    " - Manu Tom           - 20BDA23\n",
    " - Keerthana Sajeevan - 20BDA39\n",
    " - Tonmoy Dutta       - 20BDA57\n",
    " - Ananya Kumari      - 20BDA68"
   ]
  }
 ],
 "metadata": {
  "kernelspec": {
   "display_name": "Python 3",
   "language": "python",
   "name": "python3"
  },
  "language_info": {
   "codemirror_mode": {
    "name": "ipython",
    "version": 3
   },
   "file_extension": ".py",
   "mimetype": "text/x-python",
   "name": "python",
   "nbconvert_exporter": "python",
   "pygments_lexer": "ipython3",
   "version": "3.8.3"
  }
 },
 "nbformat": 4,
 "nbformat_minor": 5
}
